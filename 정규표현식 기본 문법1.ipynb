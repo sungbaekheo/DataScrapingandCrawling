{
 "cells": [
  {
   "cell_type": "markdown",
   "id": "3b81d9af",
   "metadata": {},
   "source": [
    "### 정규표현식 기본 문법1\n",
    "1. .: 모든 것\n",
    "2. *: 0번 이상 반복\n",
    "3. +: 1번 이상 반복\n",
    "4. {m}: m번 반복\n",
    "5. {m,n}: m번 이상 n번 이하 반복\n",
    "6. ?: 있어도 되고, 없어도 됨"
   ]
  },
  {
   "cell_type": "code",
   "execution_count": 1,
   "id": "260577c8",
   "metadata": {},
   "outputs": [],
   "source": [
    "import re"
   ]
  },
  {
   "cell_type": "code",
   "execution_count": 7,
   "id": "625f9992",
   "metadata": {},
   "outputs": [
    {
     "name": "stdout",
     "output_type": "stream",
     "text": [
      "<re.Match object; span=(0, 3), match='배고파'>\n",
      "<re.Match object; span=(0, 3), match='배아파'>\n",
      "<re.Match object; span=(0, 3), match='배흑파'>\n"
     ]
    }
   ],
   "source": [
    "b = re.compile(\"배.파\")\n",
    "print(b.match(\"배고파\"))\n",
    "print(b.match(\"배아파\"))\n",
    "print(b.match(\"배흑파\"))"
   ]
  },
  {
   "cell_type": "code",
   "execution_count": 4,
   "id": "ce70ba3d",
   "metadata": {},
   "outputs": [
    {
     "name": "stdout",
     "output_type": "stream",
     "text": [
      "None\n"
     ]
    }
   ],
   "source": [
    "b = re.compile(\"배..파\")\n",
    "print(b.match(\"배고파\"))"
   ]
  },
  {
   "cell_type": "code",
   "execution_count": 8,
   "id": "049661ac",
   "metadata": {},
   "outputs": [
    {
     "name": "stdout",
     "output_type": "stream",
     "text": [
      "<re.Match object; span=(0, 2), match='배파'>\n",
      "<re.Match object; span=(0, 3), match='배고파'>\n",
      "<re.Match object; span=(0, 4), match='배고고파'>\n",
      "<re.Match object; span=(0, 5), match='배고고고파'>\n"
     ]
    }
   ],
   "source": [
    "b = re.compile(\"배고*파\")\n",
    "print(b.match(\"배파\"))\n",
    "print(b.match(\"배고파\"))\n",
    "print(b.match(\"배고고파\"))\n",
    "print(b.match(\"배고고고파\"))"
   ]
  },
  {
   "cell_type": "code",
   "execution_count": 9,
   "id": "376bc8f9",
   "metadata": {},
   "outputs": [
    {
     "name": "stdout",
     "output_type": "stream",
     "text": [
      "None\n",
      "<re.Match object; span=(0, 3), match='배고파'>\n",
      "<re.Match object; span=(0, 4), match='배고고파'>\n",
      "<re.Match object; span=(0, 5), match='배고고고파'>\n"
     ]
    }
   ],
   "source": [
    "b = re.compile(\"배고+파\")\n",
    "print(b.match(\"배파\"))\n",
    "print(b.match(\"배고파\"))\n",
    "print(b.match(\"배고고파\"))\n",
    "print(b.match(\"배고고고파\"))"
   ]
  },
  {
   "cell_type": "code",
   "execution_count": 11,
   "id": "a95b3a6e",
   "metadata": {},
   "outputs": [
    {
     "name": "stdout",
     "output_type": "stream",
     "text": [
      "None\n",
      "None\n",
      "<re.Match object; span=(0, 4), match='배고고파'>\n",
      "None\n"
     ]
    }
   ],
   "source": [
    "b = re.compile(\"배고{2}파\")\n",
    "print(b.match(\"배파\"))\n",
    "print(b.match(\"배고파\"))\n",
    "print(b.match(\"배고고파\"))\n",
    "print(b.match(\"배고고고파\"))"
   ]
  },
  {
   "cell_type": "code",
   "execution_count": 12,
   "id": "b31b6864",
   "metadata": {},
   "outputs": [
    {
     "name": "stdout",
     "output_type": "stream",
     "text": [
      "None\n",
      "<re.Match object; span=(0, 3), match='배고파'>\n",
      "<re.Match object; span=(0, 4), match='배고고파'>\n",
      "None\n"
     ]
    }
   ],
   "source": [
    "b = re.compile(\"배고{1,2}파\")\n",
    "print(b.match(\"배파\"))\n",
    "print(b.match(\"배고파\"))\n",
    "print(b.match(\"배고고파\"))\n",
    "print(b.match(\"배고고고파\"))"
   ]
  },
  {
   "cell_type": "code",
   "execution_count": 13,
   "id": "e38747bb",
   "metadata": {},
   "outputs": [
    {
     "name": "stdout",
     "output_type": "stream",
     "text": [
      "<re.Match object; span=(0, 2), match='배파'>\n",
      "<re.Match object; span=(0, 3), match='배고파'>\n",
      "None\n",
      "None\n"
     ]
    }
   ],
   "source": [
    "b = re.compile(\"배고?파\")\n",
    "print(b.match(\"배파\"))\n",
    "print(b.match(\"배고파\"))\n",
    "print(b.match(\"배고고파\"))\n",
    "print(b.match(\"배고고고파\"))"
   ]
  },
  {
   "cell_type": "code",
   "execution_count": 14,
   "id": "0b59b9be",
   "metadata": {},
   "outputs": [
    {
     "name": "stdout",
     "output_type": "stream",
     "text": [
      "<re.Match object; span=(0, 10), match='나는 밥을 먹었다.'>\n",
      "<re.Match object; span=(0, 10), match='나는 밥을 먹었다ㅋ'>\n"
     ]
    }
   ],
   "source": [
    "b = re.compile(\"나는 밥을 먹었다.\")\n",
    "print(b.match(\"나는 밥을 먹었다.\"))\n",
    "print(b.match(\"나는 밥을 먹었다ㅋ\"))"
   ]
  },
  {
   "cell_type": "code",
   "execution_count": 15,
   "id": "2a65dbc3",
   "metadata": {},
   "outputs": [
    {
     "name": "stdout",
     "output_type": "stream",
     "text": [
      "<re.Match object; span=(0, 10), match='나는 밥을 먹었다.'>\n",
      "None\n"
     ]
    }
   ],
   "source": [
    "b = re.compile(\"나는 밥을 먹었다\\.\")\n",
    "print(b.match(\"나는 밥을 먹었다.\"))\n",
    "print(b.match(\"나는 밥을 먹었다ㅋ\"))"
   ]
  },
  {
   "cell_type": "markdown",
   "id": "83a9b4db",
   "metadata": {},
   "source": [
    "### 괄호의 활용\n",
    "\n",
    "- 소괄호 () = and\n",
    "- 대괄호 [] = or"
   ]
  },
  {
   "cell_type": "code",
   "execution_count": 18,
   "id": "24b199f6",
   "metadata": {},
   "outputs": [
    {
     "name": "stdout",
     "output_type": "stream",
     "text": [
      "None\n",
      "<re.Match object; span=(0, 3), match='배고파'>\n",
      "None\n",
      "None\n",
      "<re.Match object; span=(0, 7), match='배고파고파고파'>\n"
     ]
    }
   ],
   "source": [
    "c = re.compile(\"배(고파)+\")\n",
    "print(c.match(\"배파\"))\n",
    "print(c.match(\"배고파\"))\n",
    "print(c.match(\"배고고파\"))\n",
    "print(c.match(\"배고고고파\"))\n",
    "print(c.match(\"배고파고파고파\"))"
   ]
  },
  {
   "cell_type": "code",
   "execution_count": 20,
   "id": "69b8d543",
   "metadata": {},
   "outputs": [
    {
     "name": "stdout",
     "output_type": "stream",
     "text": [
      "None\n",
      "<re.Match object; span=(0, 2), match='배고'>\n",
      "<re.Match object; span=(0, 2), match='배파'>\n",
      "<re.Match object; span=(0, 3), match='배고파'>\n",
      "<re.Match object; span=(0, 4), match='배고고파'>\n",
      "<re.Match object; span=(0, 5), match='배고고고파'>\n",
      "<re.Match object; span=(0, 7), match='배고파고파고파'>\n"
     ]
    }
   ],
   "source": [
    "c = re.compile(\"배[고파]+\")\n",
    "print(c.match(\"배\"))\n",
    "print(c.match(\"배고\"))\n",
    "print(c.match(\"배파\"))\n",
    "print(c.match(\"배고파\"))\n",
    "print(c.match(\"배고고파\"))\n",
    "print(c.match(\"배고고고파\"))\n",
    "print(c.match(\"배고파고파고파\"))"
   ]
  },
  {
   "cell_type": "code",
   "execution_count": 28,
   "id": "57675420",
   "metadata": {},
   "outputs": [
    {
     "name": "stdout",
     "output_type": "stream",
     "text": [
      "None\n"
     ]
    }
   ],
   "source": [
    "d = re.compile(\"[여남공외과상]고\")\n",
    "print(d.match(\"남공고\"))"
   ]
  },
  {
   "cell_type": "code",
   "execution_count": 33,
   "id": "b7371234",
   "metadata": {},
   "outputs": [
    {
     "name": "stdout",
     "output_type": "stream",
     "text": [
      "<re.Match object; span=(0, 6), match='여자고등학교'>\n",
      "<re.Match object; span=(0, 7), match='외국어고등학교'>\n",
      "<re.Match object; span=(0, 6), match='남자고등학교'>\n",
      "<re.Match object; span=(0, 6), match='공업고등학교'>\n"
     ]
    }
   ],
   "source": [
    "d = re.compile(\"(여자|외국어|남자|공업)고등학교\")\n",
    "print(d.match(\"여자고등학교\"))\n",
    "print(d.match(\"외국어고등학교\"))\n",
    "print(d.match(\"남자고등학교\"))\n",
    "print(d.match(\"공업고등학교\"))"
   ]
  },
  {
   "cell_type": "code",
   "execution_count": 39,
   "id": "f50a655c",
   "metadata": {},
   "outputs": [
    {
     "name": "stdout",
     "output_type": "stream",
     "text": [
      "<re.Match object; span=(0, 1), match='0'>\n",
      "<re.Match object; span=(0, 1), match='1'>\n",
      "<re.Match object; span=(0, 1), match='2'>\n",
      "<re.Match object; span=(0, 1), match='3'>\n",
      "<re.Match object; span=(0, 1), match='4'>\n",
      "<re.Match object; span=(0, 1), match='5'>\n",
      "<re.Match object; span=(0, 1), match='6'>\n",
      "<re.Match object; span=(0, 1), match='7'>\n"
     ]
    }
   ],
   "source": [
    "d = re.compile(\"[0-9]\")\n",
    "print(d.match(\"0\"))\n",
    "print(d.match(\"1\"))\n",
    "print(d.match(\"2\"))\n",
    "print(d.match(\"3\"))\n",
    "print(d.match(\"4\"))\n",
    "print(d.match(\"5\"))\n",
    "print(d.match(\"6\"))\n",
    "print(d.match(\"7\"))"
   ]
  },
  {
   "cell_type": "code",
   "execution_count": 40,
   "id": "9245f028",
   "metadata": {},
   "outputs": [
    {
     "name": "stdout",
     "output_type": "stream",
     "text": [
      "<re.Match object; span=(0, 2), match='10'>\n"
     ]
    }
   ],
   "source": [
    "d = re.compile(\"[0-9]+\")\n",
    "print(d.match(\"10\"))"
   ]
  },
  {
   "cell_type": "code",
   "execution_count": 42,
   "id": "102b1ec8",
   "metadata": {},
   "outputs": [
    {
     "name": "stdout",
     "output_type": "stream",
     "text": [
      "<re.Match object; span=(0, 1), match='a'>\n"
     ]
    }
   ],
   "source": [
    "d = re.compile(\"[a-z]\")\n",
    "print(d.match(\"a\"))"
   ]
  },
  {
   "cell_type": "code",
   "execution_count": 43,
   "id": "007d91d7",
   "metadata": {},
   "outputs": [
    {
     "name": "stdout",
     "output_type": "stream",
     "text": [
      "<re.Match object; span=(0, 1), match='믜'>\n"
     ]
    }
   ],
   "source": [
    "d = re.compile(\"[가-힣]\")\n",
    "print(d.match(\"믜\"))"
   ]
  },
  {
   "cell_type": "code",
   "execution_count": 44,
   "id": "18c0b845",
   "metadata": {},
   "outputs": [
    {
     "name": "stdout",
     "output_type": "stream",
     "text": [
      "<re.Match object; span=(0, 1), match='ㅃ'>\n"
     ]
    }
   ],
   "source": [
    "d = re.compile(\"[ㄱ-ㅎ]\")\n",
    "print(d.match(\"ㅃ\"))"
   ]
  },
  {
   "cell_type": "code",
   "execution_count": 47,
   "id": "7b4538bd",
   "metadata": {},
   "outputs": [
    {
     "name": "stdout",
     "output_type": "stream",
     "text": [
      "<re.Match object; span=(0, 11), match='aorkdslgnls'>\n"
     ]
    }
   ],
   "source": [
    "d = re.compile(\"[0-9a-zA-Z가-힣ㄱ-ㅎㅏ-ㅣ]*\")\n",
    "print(d.match(\"aorkdslgnls\"));"
   ]
  },
  {
   "cell_type": "code",
   "execution_count": 52,
   "id": "0b94d82b",
   "metadata": {},
   "outputs": [
    {
     "name": "stdout",
     "output_type": "stream",
     "text": [
      "<re.Match object; span=(0, 48), match='asdfoweotbobapidg;ladkn;faksdbflahbsflaosbnd;jik'>\n"
     ]
    }
   ],
   "source": [
    "d = re.compile(\"[^0-9]+\")\n",
    "print(d.match(\"asdfoweotbobapidg;ladkn;faksdbflahbsflaosbnd;jik\"))"
   ]
  },
  {
   "cell_type": "markdown",
   "id": "8d8b16ec",
   "metadata": {},
   "source": [
    "### 정규표현식 특수문법\n",
    "\n",
    "\\d 는 모든 숫자를 의미\n",
    "\\D 는 숫자를 제외한 모든 문자를 의미\n",
    "\n",
    "\\s 는 스페이스를 의미\n",
    "\\S 는 스페이스를 제외한 모든 문자를 의미\n",
    "\n",
    "\\w 는 특수문자가 아닌 모든 문자를 의미\n",
    "\\W 는 특수문자를 의미\n",
    "'_'는 특수문자가 아님"
   ]
  },
  {
   "cell_type": "code",
   "execution_count": 58,
   "id": "64c2a40e",
   "metadata": {},
   "outputs": [
    {
     "name": "stdout",
     "output_type": "stream",
     "text": [
      "<re.Match object; span=(0, 1), match='q'>\n"
     ]
    }
   ],
   "source": [
    "d = re.compile(\"\\D\")\n",
    "print(d.match(\"qweoir\"))"
   ]
  },
  {
   "cell_type": "code",
   "execution_count": 59,
   "id": "edb76cbd",
   "metadata": {},
   "outputs": [
    {
     "data": {
      "text/plain": [
       "re.compile(r'[^0-9]', re.UNICODE)"
      ]
     },
     "execution_count": 59,
     "metadata": {},
     "output_type": "execute_result"
    }
   ],
   "source": [
    "re.compile(\"\\D\")\n",
    "re.compile(\"[^0-9]\")"
   ]
  },
  {
   "cell_type": "code",
   "execution_count": 65,
   "id": "2cc14df1",
   "metadata": {},
   "outputs": [
    {
     "name": "stdout",
     "output_type": "stream",
     "text": [
      "<re.Match object; span=(0, 1), match='w'>\n"
     ]
    }
   ],
   "source": [
    "d = re.compile(\"\\s\")\n",
    "print(d.match(\"w\"))"
   ]
  },
  {
   "cell_type": "code",
   "execution_count": 73,
   "id": "44cf4156",
   "metadata": {},
   "outputs": [
    {
     "name": "stdout",
     "output_type": "stream",
     "text": [
      "<re.Match object; span=(0, 1), match='@'>\n"
     ]
    }
   ],
   "source": [
    "d = re.compile(\"\\W\")\n",
    "print(d.match(\"@\"))"
   ]
  },
  {
   "cell_type": "markdown",
   "id": "1342a847",
   "metadata": {},
   "source": [
    "### 이메일 지칭하기\n",
    "- abcdefg@gmail.com\n",
    "- abcdefg@daum.net\n",
    "- abcdefg@yahoo.co.kr"
   ]
  },
  {
   "cell_type": "code",
   "execution_count": 165,
   "id": "70c752b0",
   "metadata": {},
   "outputs": [
    {
     "name": "stdout",
     "output_type": "stream",
     "text": [
      "<re.Match object; span=(0, 17), match='abcdefg@gmail.com'>\n",
      "<re.Match object; span=(0, 16), match='abcdefg@daum.net'>\n",
      "<re.Match object; span=(0, 19), match='abcdefg@yahoo.co.kr'>\n",
      "None\n",
      "None\n"
     ]
    }
   ],
   "source": [
    "email = re.compile(\"[a-zA-Z0-9]*@[a-zA-Z0-9]*\\.[a-zA-Z\\W]*\")\n",
    "print(email.match(\"abcdefg@gmail.com\"))\n",
    "print(email.match(\"abcdefg@daum.net\"))\n",
    "print(email.match(\"abcdefg@yahoo.co.kr\"))\n",
    "print(email.match(\"hello my name is sungbaek\"))\n",
    "print(email.match(\"hello my name@is sungbaek\"))"
   ]
  },
  {
   "cell_type": "markdown",
   "id": "f878b27b",
   "metadata": {},
   "source": [
    "### 전화번호 지칭하기\n",
    "- 010-1234-5678\n",
    "- 02-123-4567\n",
    "- 031)1234567\n",
    "- 0321234567\n",
    "- 112\n",
    "- 1588-2288"
   ]
  },
  {
   "cell_type": "code",
   "execution_count": 235,
   "id": "61787943",
   "metadata": {},
   "outputs": [
    {
     "name": "stdout",
     "output_type": "stream",
     "text": [
      "<re.Match object; span=(0, 13), match='010-1234-5678'>\n",
      "<re.Match object; span=(0, 11), match='02-123-4567'>\n",
      "<re.Match object; span=(0, 11), match='031)1234567'>\n",
      "<re.Match object; span=(0, 10), match='0321234567'>\n",
      "<re.Match object; span=(0, 3), match='112'>\n",
      "<re.Match object; span=(0, 9), match='1588-2288'>\n",
      "None\n",
      "None\n",
      "<re.Match object; span=(0, 6), match='123413'>\n",
      "None\n",
      "<re.Match object; span=(0, 27), match='123423534654623452345246245'>\n"
     ]
    }
   ],
   "source": [
    "number = re.compile(\"[0-9]+[\\-\\)]?[0-9]+-?[0-9]+\")\n",
    "\n",
    "print(number.match(\"010-1234-5678\"))\n",
    "print(number.match(\"02-123-4567\"))\n",
    "print(number.match(\"031)1234567\"))\n",
    "print(number.match(\"0321234567\"))\n",
    "print(number.match(\"112\"))\n",
    "print(number.match(\"1588-2288\"))\n",
    "print(number.match(\"서울시 서초구 방배동\"))\n",
    "print(number.match(\"동일로 210길 22\"))\n",
    "print(number.match(\"123413\"))\n",
    "print(number.match(\"12\"))\n",
    "print(number.match(\"123423534654623452345246245\"))"
   ]
  },
  {
   "cell_type": "code",
   "execution_count": null,
   "id": "6fb26c8e",
   "metadata": {},
   "outputs": [],
   "source": []
  }
 ],
 "metadata": {
  "kernelspec": {
   "display_name": "Python 3 (ipykernel)",
   "language": "python",
   "name": "python3"
  },
  "language_info": {
   "codemirror_mode": {
    "name": "ipython",
    "version": 3
   },
   "file_extension": ".py",
   "mimetype": "text/x-python",
   "name": "python",
   "nbconvert_exporter": "python",
   "pygments_lexer": "ipython3",
   "version": "3.9.12"
  }
 },
 "nbformat": 4,
 "nbformat_minor": 5
}
