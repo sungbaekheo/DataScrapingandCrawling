{
 "cells": [
  {
   "cell_type": "code",
   "execution_count": 46,
   "id": "eb6669fc",
   "metadata": {},
   "outputs": [
    {
     "name": "stdout",
     "output_type": "stream",
     "text": [
      "['하루', '가', '멀다', '하다', '섭취', '하다', '과자', '는', '뱃살', '을', '불리다', '완전', '딱이다', '.']\n",
      "['하루', '섭취', '과자', '뱃살', '완전']\n",
      "[('하루', 'Noun'), ('가', 'Josa'), ('멀다', 'Adjective'), ('하고', 'Verb'), ('섭취', 'Noun'), ('하는', 'Verb'), ('과자', 'Noun'), ('는', 'Josa'), ('뱃살', 'Noun'), ('을', 'Josa'), ('불리기에', 'Verb'), ('완전', 'Noun'), ('딱이다', 'Adjective'), ('.', 'Punctuation')]\n"
     ]
    }
   ],
   "source": [
    "from konlpy.tag import Okt\n",
    "okt = Okt()\n",
    "text2 = \"하루가 멀다 하고 섭취하는 과자는 뱃살을 불리기에 완전 딱이다.\"\n",
    "print(okt.morphs(\"하루가 멀다 하고 섭취하는 과자는 뱃살을 불리기에 완전 딱이다.\",stem=True))\n",
    "print(okt.nouns(\"하루가 멀다 하고 섭취하는 과자는 뱃살을 불리기에 완전 딱이다.\"))\n",
    "print(okt.pos(\"하루가 멀다 하고 섭취하는 과자는 뱃살을 불리기에 완전 딱이다.\"))"
   ]
  },
  {
   "cell_type": "code",
   "execution_count": 17,
   "id": "e2fc11ea",
   "metadata": {},
   "outputs": [],
   "source": [
    "from konlpy.tag import Hannanum\n",
    "from konlpy.tag import Komoran\n",
    "from konlpy.tag import Kkma"
   ]
  },
  {
   "cell_type": "code",
   "execution_count": 18,
   "id": "d332fc90",
   "metadata": {},
   "outputs": [],
   "source": [
    "hannanum = Hannanum()\n",
    "komoran = Komoran()\n",
    "kkma = Kkma()"
   ]
  },
  {
   "cell_type": "code",
   "execution_count": 23,
   "id": "20b739fa",
   "metadata": {},
   "outputs": [
    {
     "name": "stdout",
     "output_type": "stream",
     "text": [
      "['하루', '가', '멀', '다', '하', '고', '섭취', '하', '는', '과자', '는', '뱃살', '을', '불리', '기', '에', '완전', '딱', '이', '다', '.']\n",
      "['하루', '섭취', '과자', '뱃살', '완전', '딱']\n",
      "[('하루', 'N'), ('가', 'J'), ('멀', 'P'), ('다', 'E'), ('하', 'P'), ('고', 'E'), ('섭취', 'N'), ('하', 'X'), ('는', 'E'), ('과자', 'N'), ('는', 'J'), ('뱃살', 'N'), ('을', 'J'), ('불리', 'P'), ('기', 'E'), ('에', 'J'), ('완전', 'N'), ('딱', 'N'), ('이', 'J'), ('다', 'E'), ('.', 'S')]\n"
     ]
    }
   ],
   "source": [
    "print(hannanum.morphs(text))\n",
    "print(hannanum.nouns(text))\n",
    "print(hannanum.pos(text))"
   ]
  },
  {
   "cell_type": "code",
   "execution_count": 24,
   "id": "ec8655fd",
   "metadata": {},
   "outputs": [
    {
     "name": "stdout",
     "output_type": "stream",
     "text": [
      "['하루', '가', '멀', '다', '하', '고', '섭취', '하', '는', '과자', '는', '뱃살', '을', '불리', '기', '에', '완전', '딱', '이', '다', '.']\n",
      "['하루', '섭취', '과자', '뱃살', '완전']\n",
      "[('하루', 'NNG'), ('가', 'JKS'), ('멀', 'VA'), ('다', 'EC'), ('하', 'VV'), ('고', 'EC'), ('섭취', 'NNG'), ('하', 'XSV'), ('는', 'ETM'), ('과자', 'NNP'), ('는', 'JX'), ('뱃살', 'NNG'), ('을', 'JKO'), ('불리', 'VV'), ('기', 'ETN'), ('에', 'JKB'), ('완전', 'NNG'), ('딱', 'MAG'), ('이', 'VCP'), ('다', 'EF'), ('.', 'SF')]\n"
     ]
    }
   ],
   "source": [
    "print(komoran.morphs(text))\n",
    "print(komoran.nouns(text))\n",
    "print(komoran.pos(text))"
   ]
  },
  {
   "cell_type": "code",
   "execution_count": 25,
   "id": "3ce7dbb2",
   "metadata": {},
   "outputs": [
    {
     "name": "stdout",
     "output_type": "stream",
     "text": [
      "['하루', '가', '멀', '다', '하', '고', '섭취', '하', '는', '과자', '는', '뱃살', '을', '불리', '기에', '완전', '딱이', '이', '다', '.']\n",
      "['하루', '섭취', '과자', '뱃살', '완전', '딱이']\n",
      "[('하루', 'NNG'), ('가', 'JKS'), ('멀', 'VA'), ('다', 'ECS'), ('하', 'VV'), ('고', 'ECE'), ('섭취', 'NNG'), ('하', 'XSV'), ('는', 'ETD'), ('과자', 'NNG'), ('는', 'JX'), ('뱃살', 'NNG'), ('을', 'JKO'), ('불리', 'VV'), ('기에', 'ECD'), ('완전', 'NNG'), ('딱이', 'NNG'), ('이', 'VCP'), ('다', 'EFN'), ('.', 'SF')]\n"
     ]
    }
   ],
   "source": [
    "print(kkma.morphs(text))\n",
    "print(kkma.nouns(text))\n",
    "print(kkma.pos(text))"
   ]
  },
  {
   "cell_type": "code",
   "execution_count": 29,
   "id": "ab2db9da",
   "metadata": {},
   "outputs": [
    {
     "name": "stdout",
     "output_type": "stream",
     "text": [
      "['나', '는', '오늘', '친구', '와', '함께', '영화', '를', '볼', '계획', '이다', '.']\n",
      "['나', '오늘', '친구', '영화', '볼', '계획']\n",
      "[('나', 'Noun'), ('는', 'Josa'), ('오늘', 'Noun'), ('친구', 'Noun'), ('와', 'Josa'), ('함께', 'Adverb'), ('영화', 'Noun'), ('를', 'Josa'), ('볼', 'Noun'), ('계획', 'Noun'), ('이다', 'Josa'), ('.', 'Punctuation')]\n"
     ]
    }
   ],
   "source": [
    "print(okt.morphs(text))\n",
    "print(okt.nouns(text))\n",
    "print(okt.pos(text))"
   ]
  },
  {
   "cell_type": "code",
   "execution_count": 30,
   "id": "efd9535e",
   "metadata": {},
   "outputs": [],
   "source": [
    "text = \"아 어제 우천으로 반포대교 무지개 분수쇼 취소됐는데 넘 아쉽쓰ㅠㅠ 아 근뎈ㅋㅋㅋ 어제 바람 진짜 많이 불어가꼬 미치는줄ㅋㅋㅋㅋㅋ\""
   ]
  },
  {
   "cell_type": "code",
   "execution_count": 31,
   "id": "9e52a2bb",
   "metadata": {},
   "outputs": [
    {
     "name": "stdout",
     "output_type": "stream",
     "text": [
      "['아', '어제', '우천', '으로', '반포대교', '무지개', '분수', '쇼', '취소', '됐는데', '넘', '아쉽', '쓰', 'ㅠㅠ', '아', '근뎈', 'ㅋㅋㅋ', '어제', '바람', '진짜', '많이', '불어', '가', '꼬', '미치는줄', 'ㅋㅋㅋㅋㅋ']\n"
     ]
    }
   ],
   "source": [
    "print(okt.morphs(text))"
   ]
  },
  {
   "cell_type": "code",
   "execution_count": 33,
   "id": "6e7baf2e",
   "metadata": {},
   "outputs": [
    {
     "name": "stdout",
     "output_type": "stream",
     "text": [
      "['아', '어제', '우천', '으로', '반포대교', '무지개', '분수', '쇼', '취소', '돼다', '넘다', '아쉽다', '쓰다', 'ㅠㅠ', '아', '근뎈', 'ㅋㅋㅋ', '어제', '바람', '진짜', '많이', '불어', '가', '꼬', '미치다', 'ㅋㅋㅋㅋㅋ']\n"
     ]
    }
   ],
   "source": [
    "print(okt.morphs(text,stem = True))"
   ]
  },
  {
   "cell_type": "code",
   "execution_count": 35,
   "id": "336a2ef1",
   "metadata": {},
   "outputs": [
    {
     "name": "stdout",
     "output_type": "stream",
     "text": [
      "['아', '어제', '우천', '으로', '반포대교', '무지개', '분수', '쇼', '취소', '돼다', '넘다', '아쉽다', '쓰다', 'ㅠㅠ', '아', '근데', 'ㅋㅋㅋ', '어제', '바람', '진짜', '많이', '불어', '가', '꼬', '미치다', 'ㅋㅋㅋ']\n"
     ]
    }
   ],
   "source": [
    "print(okt.morphs(text, norm = True, stem = True))"
   ]
  },
  {
   "cell_type": "code",
   "execution_count": 38,
   "id": "39ce03b9",
   "metadata": {},
   "outputs": [],
   "source": [
    "def ext_nouns(string):\n",
    "    nouns = okt.nouns(string)\n",
    "    return nouns"
   ]
  },
  {
   "cell_type": "code",
   "execution_count": 39,
   "id": "93444108",
   "metadata": {},
   "outputs": [
    {
     "data": {
      "text/plain": [
       "['어제', '우천', '반포대교', '무지개', '분수', '쇼', '취소', '근뎈', '어제', '바람', '진짜', '불어', '꼬']"
      ]
     },
     "execution_count": 39,
     "metadata": {},
     "output_type": "execute_result"
    }
   ],
   "source": [
    "ext_nouns(text)"
   ]
  },
  {
   "cell_type": "code",
   "execution_count": 69,
   "id": "164eba38",
   "metadata": {},
   "outputs": [],
   "source": [
    "def ext_tag1(string):\n",
    "    result = []\n",
    "    pos = okt.pos(string, norm=True, stem=True)\n",
    "    for i in pos:\n",
    "        if i[1] in ['Adjective', 'Verb', 'Noun']:\n",
    "            result.append(i[0])\n",
    "   \n",
    "    return result"
   ]
  },
  {
   "cell_type": "code",
   "execution_count": 70,
   "id": "e0cfd48a",
   "metadata": {},
   "outputs": [
    {
     "data": {
      "text/plain": [
       "['하루', '멀다', '하다', '섭취', '하다', '과자', '뱃살', '불리다', '완전', '딱이다']"
      ]
     },
     "execution_count": 70,
     "metadata": {},
     "output_type": "execute_result"
    }
   ],
   "source": [
    "ext_tag1(text2)"
   ]
  },
  {
   "cell_type": "code",
   "execution_count": 71,
   "id": "44cfbc08",
   "metadata": {},
   "outputs": [],
   "source": [
    "stopwords = ['있다', '하다', '되다']"
   ]
  },
  {
   "cell_type": "code",
   "execution_count": 72,
   "id": "8fa30d7c",
   "metadata": {},
   "outputs": [],
   "source": [
    "def ext_tag2(string):\n",
    "    result = []\n",
    "    pos = okt.pos(string, norm=True, stem=True)\n",
    "    for i in pos:\n",
    "        if i[1] in ['Adjective', 'Verb', 'Noun']:\n",
    "            if i[0] not in stopwords:\n",
    "                result.append(i[0])\n",
    "   \n",
    "    return result"
   ]
  },
  {
   "cell_type": "code",
   "execution_count": 73,
   "id": "2df92616",
   "metadata": {},
   "outputs": [
    {
     "data": {
      "text/plain": [
       "['하루', '멀다', '섭취', '과자', '뱃살', '불리다', '완전', '딱이다']"
      ]
     },
     "execution_count": 73,
     "metadata": {},
     "output_type": "execute_result"
    }
   ],
   "source": [
    "ext_tag2(text2)"
   ]
  },
  {
   "cell_type": "code",
   "execution_count": 66,
   "id": "13c68c5e",
   "metadata": {},
   "outputs": [],
   "source": []
  },
  {
   "cell_type": "code",
   "execution_count": null,
   "id": "fb84daf3",
   "metadata": {},
   "outputs": [],
   "source": []
  }
 ],
 "metadata": {
  "kernelspec": {
   "display_name": "Python 3 (ipykernel)",
   "language": "python",
   "name": "python3"
  },
  "language_info": {
   "codemirror_mode": {
    "name": "ipython",
    "version": 3
   },
   "file_extension": ".py",
   "mimetype": "text/x-python",
   "name": "python",
   "nbconvert_exporter": "python",
   "pygments_lexer": "ipython3",
   "version": "3.9.12"
  }
 },
 "nbformat": 4,
 "nbformat_minor": 5
}
