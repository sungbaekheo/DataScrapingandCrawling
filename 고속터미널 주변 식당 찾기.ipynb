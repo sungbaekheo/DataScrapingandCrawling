{
 "cells": [
  {
   "cell_type": "code",
   "execution_count": 1,
   "id": "5b390f25",
   "metadata": {},
   "outputs": [],
   "source": [
    "from selenium import webdriver\n",
    "from webdriver_manager.chrome import ChromeDriverManager\n",
    "import pandas as pd\n",
    "import time\n",
    "from tqdm import tqdm_notebook as tq\n",
    "from bs4 import BeautifulSoup as bs"
   ]
  },
  {
   "cell_type": "code",
   "execution_count": 2,
   "id": "10afc69f",
   "metadata": {},
   "outputs": [],
   "source": [
    "from selenium.webdriver.common.keys import Keys"
   ]
  },
  {
   "cell_type": "code",
   "execution_count": 116,
   "id": "796c2c4a",
   "metadata": {},
   "outputs": [],
   "source": [
    "driver = webdriver.Chrome(ChromeDriverManager().install())"
   ]
  },
  {
   "cell_type": "code",
   "execution_count": 117,
   "id": "ce60166d",
   "metadata": {},
   "outputs": [],
   "source": [
    "driver.get(\"https://map.kakao.com/\")"
   ]
  },
  {
   "cell_type": "code",
   "execution_count": 118,
   "id": "05636489",
   "metadata": {},
   "outputs": [],
   "source": [
    "driver.maximize_window()"
   ]
  },
  {
   "cell_type": "code",
   "execution_count": 119,
   "id": "07127cd0",
   "metadata": {},
   "outputs": [
    {
     "name": "stderr",
     "output_type": "stream",
     "text": [
      "C:\\Users\\user\\AppData\\Local\\Temp\\ipykernel_9320\\2669802849.py:15: TqdmDeprecationWarning: This function will be removed in tqdm==5.0.0\n",
      "Please use `tqdm.notebook.tqdm` instead of `tqdm.tqdm_notebook`\n",
      "  for i in tq(range(1, 35)) :\n"
     ]
    },
    {
     "data": {
      "application/vnd.jupyter.widget-view+json": {
       "model_id": "32c1c348ced742ae854d75d635202776",
       "version_major": 2,
       "version_minor": 0
      },
      "text/plain": [
       "  0%|          | 0/34 [00:00<?, ?it/s]"
      ]
     },
     "metadata": {},
     "output_type": "display_data"
    }
   ],
   "source": [
    "layer_btn = driver.find_element_by_css_selector(\"body > div.coach_layer.coach_layer_type1 > div > div > div > span\")\n",
    "layer_btn.click()\n",
    "\n",
    "searchbox = driver.find_element_by_css_selector(\"#search\\.keyword\\.query\")\n",
    "searchbox.send_keys(\"파미에스테이션 맛집\")\n",
    "time.sleep(1)\n",
    "searchbox.send_keys(Keys.ENTER)\n",
    "time.sleep(2)\n",
    "\n",
    "restaurant_names = []\n",
    "restaurant_categories = []\n",
    "restaurant_scores = []\n",
    "restaurant_urls = []\n",
    "\n",
    "for i in tq(range(1, 35)) :\n",
    "    if i == 1:\n",
    "        continue\n",
    "    elif i == 2:\n",
    "        more_place = driver.find_element_by_css_selector(\"#info\\.search\\.place\\.more\")\n",
    "        more_place.click()\n",
    "    elif i % 5 == 1:\n",
    "        next_btn = driver.find_element_by_css_selector(\"#info\\.search\\.page\\.next\")\n",
    "        next_btn.click()\n",
    "    elif i% 5 == 0:\n",
    "        nav_btn = driver.find_element_by_css_selector(\"#info\\.search\\.page\\.no5\")\n",
    "        nav_btn.click()\n",
    "    else :\n",
    "        nav_btn = driver.find_element_by_css_selector(\"#info\\.search\\.page\\.no{}\".format(i%5))\n",
    "        nav_btn.click()\n",
    "    time.sleep(2)\n",
    "    \n",
    "    names = driver.find_elements_by_css_selector(\"div.head_item.clickArea > strong > a.link_name\")\n",
    "    scores = driver.find_elements_by_css_selector(\"div.rating.clickArea > span.score > em\")\n",
    "    categories = driver.find_elements_by_css_selector(\"div.head_item.clickArea > span\")\n",
    "\n",
    "    for i in range(len(names)):\n",
    "        restaurant_names.append(names[i].text)\n",
    "        restaurant_scores.append(scores[i].text)\n",
    "        restaurant_categories.append(categories[i].text)\n"
   ]
  },
  {
   "cell_type": "code",
   "execution_count": 107,
   "id": "94102b6c",
   "metadata": {},
   "outputs": [
    {
     "data": {
      "text/plain": [
       "500"
      ]
     },
     "execution_count": 107,
     "metadata": {},
     "output_type": "execute_result"
    }
   ],
   "source": [
    "len(restaurant_categories)"
   ]
  },
  {
   "cell_type": "code",
   "execution_count": 108,
   "id": "368999c4",
   "metadata": {},
   "outputs": [],
   "source": [
    "data = {\"상호명\" : restaurant_names, \"카테고리\" : restaurant_categories, \"별점\" : restaurant_scores}"
   ]
  },
  {
   "cell_type": "code",
   "execution_count": 109,
   "id": "bbebc135",
   "metadata": {},
   "outputs": [],
   "source": [
    "goteo_matjip = pd.DataFrame(data)"
   ]
  },
  {
   "cell_type": "code",
   "execution_count": 110,
   "id": "024df757",
   "metadata": {},
   "outputs": [
    {
     "data": {
      "text/html": [
       "<div>\n",
       "<style scoped>\n",
       "    .dataframe tbody tr th:only-of-type {\n",
       "        vertical-align: middle;\n",
       "    }\n",
       "\n",
       "    .dataframe tbody tr th {\n",
       "        vertical-align: top;\n",
       "    }\n",
       "\n",
       "    .dataframe thead th {\n",
       "        text-align: right;\n",
       "    }\n",
       "</style>\n",
       "<table border=\"1\" class=\"dataframe\">\n",
       "  <thead>\n",
       "    <tr style=\"text-align: right;\">\n",
       "      <th></th>\n",
       "      <th>상호명</th>\n",
       "      <th>카테고리</th>\n",
       "      <th>별점</th>\n",
       "    </tr>\n",
       "  </thead>\n",
       "  <tbody>\n",
       "    <tr>\n",
       "      <th>0</th>\n",
       "      <td>JW메리어트호텔서울 플레이버즈</td>\n",
       "      <td>뷔페</td>\n",
       "      <td>4.1</td>\n",
       "    </tr>\n",
       "    <tr>\n",
       "      <th>1</th>\n",
       "      <td>스타벅스 파미에파크R점</td>\n",
       "      <td>커피전문점</td>\n",
       "      <td>3.6</td>\n",
       "    </tr>\n",
       "    <tr>\n",
       "      <th>2</th>\n",
       "      <td>모던샤브하우스 센트럴시티점</td>\n",
       "      <td>샤브샤브</td>\n",
       "      <td>4.8</td>\n",
       "    </tr>\n",
       "    <tr>\n",
       "      <th>3</th>\n",
       "      <td>딤딤섬 센트럴시티점</td>\n",
       "      <td>중식</td>\n",
       "      <td>3.4</td>\n",
       "    </tr>\n",
       "    <tr>\n",
       "      <th>4</th>\n",
       "      <td>모트32 서울</td>\n",
       "      <td>중국요리</td>\n",
       "      <td>4.0</td>\n",
       "    </tr>\n",
       "    <tr>\n",
       "      <th>...</th>\n",
       "      <td>...</td>\n",
       "      <td>...</td>\n",
       "      <td>...</td>\n",
       "    </tr>\n",
       "    <tr>\n",
       "      <th>495</th>\n",
       "      <td>크래프트브로스</td>\n",
       "      <td>호프,요리주점</td>\n",
       "      <td>3.4</td>\n",
       "    </tr>\n",
       "    <tr>\n",
       "      <th>496</th>\n",
       "      <td>스타벅스 서초중앙로점</td>\n",
       "      <td>커피전문점</td>\n",
       "      <td>2.6</td>\n",
       "    </tr>\n",
       "    <tr>\n",
       "      <th>497</th>\n",
       "      <td>파리크라상 반포서래점</td>\n",
       "      <td>제과,베이커리</td>\n",
       "      <td>4.0</td>\n",
       "    </tr>\n",
       "    <tr>\n",
       "      <th>498</th>\n",
       "      <td>명진떡방</td>\n",
       "      <td>떡,한과</td>\n",
       "      <td>0.0</td>\n",
       "    </tr>\n",
       "    <tr>\n",
       "      <th>499</th>\n",
       "      <td>브루클린더버거조인트 서래본점</td>\n",
       "      <td>햄버거</td>\n",
       "      <td>3.9</td>\n",
       "    </tr>\n",
       "  </tbody>\n",
       "</table>\n",
       "<p>500 rows × 3 columns</p>\n",
       "</div>"
      ],
      "text/plain": [
       "                  상호명     카테고리   별점\n",
       "0    JW메리어트호텔서울 플레이버즈       뷔페  4.1\n",
       "1        스타벅스 파미에파크R점    커피전문점  3.6\n",
       "2      모던샤브하우스 센트럴시티점     샤브샤브  4.8\n",
       "3          딤딤섬 센트럴시티점       중식  3.4\n",
       "4             모트32 서울     중국요리  4.0\n",
       "..                ...      ...  ...\n",
       "495           크래프트브로스  호프,요리주점  3.4\n",
       "496       스타벅스 서초중앙로점    커피전문점  2.6\n",
       "497       파리크라상 반포서래점  제과,베이커리  4.0\n",
       "498              명진떡방     떡,한과  0.0\n",
       "499   브루클린더버거조인트 서래본점      햄버거  3.9\n",
       "\n",
       "[500 rows x 3 columns]"
      ]
     },
     "execution_count": 110,
     "metadata": {},
     "output_type": "execute_result"
    }
   ],
   "source": [
    "goteo_matjip"
   ]
  },
  {
   "cell_type": "code",
   "execution_count": 111,
   "id": "29af4935",
   "metadata": {},
   "outputs": [],
   "source": [
    "goteo_matjip.to_excel(\"고터 식당 리스트.xlsx\", encoding = \"UTF-8-sig\")"
   ]
  },
  {
   "cell_type": "code",
   "execution_count": null,
   "id": "4799e995",
   "metadata": {},
   "outputs": [],
   "source": []
  }
 ],
 "metadata": {
  "kernelspec": {
   "display_name": "Python 3 (ipykernel)",
   "language": "python",
   "name": "python3"
  },
  "language_info": {
   "codemirror_mode": {
    "name": "ipython",
    "version": 3
   },
   "file_extension": ".py",
   "mimetype": "text/x-python",
   "name": "python",
   "nbconvert_exporter": "python",
   "pygments_lexer": "ipython3",
   "version": "3.9.12"
  }
 },
 "nbformat": 4,
 "nbformat_minor": 5
}
