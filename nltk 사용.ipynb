{
 "cells": [
  {
   "cell_type": "code",
   "execution_count": 1,
   "id": "15a80724",
   "metadata": {},
   "outputs": [],
   "source": [
    "import nltk"
   ]
  },
  {
   "cell_type": "code",
   "execution_count": 2,
   "id": "daadec92",
   "metadata": {},
   "outputs": [],
   "source": [
    "from nltk import pos_tag"
   ]
  },
  {
   "cell_type": "code",
   "execution_count": 4,
   "id": "44ed224a",
   "metadata": {},
   "outputs": [
    {
     "name": "stderr",
     "output_type": "stream",
     "text": [
      "[nltk_data] Downloading package punkt to\n",
      "[nltk_data]     C:\\Users\\user\\AppData\\Roaming\\nltk_data...\n",
      "[nltk_data]   Unzipping tokenizers\\punkt.zip.\n"
     ]
    },
    {
     "data": {
      "text/plain": [
       "True"
      ]
     },
     "execution_count": 4,
     "metadata": {},
     "output_type": "execute_result"
    }
   ],
   "source": [
    "nltk.download('punkt')"
   ]
  },
  {
   "cell_type": "code",
   "execution_count": 5,
   "id": "4b5b59cc",
   "metadata": {},
   "outputs": [
    {
     "name": "stdout",
     "output_type": "stream",
     "text": [
      "showing info https://raw.githubusercontent.com/nltk/nltk_data/gh-pages/index.xml\n"
     ]
    },
    {
     "data": {
      "text/plain": [
       "True"
      ]
     },
     "execution_count": 5,
     "metadata": {},
     "output_type": "execute_result"
    }
   ],
   "source": [
    "nltk.download()"
   ]
  },
  {
   "cell_type": "code",
   "execution_count": 6,
   "id": "00883b6c",
   "metadata": {},
   "outputs": [],
   "source": [
    "ex = \"The little yellow dog barked at the Persian cat\""
   ]
  },
  {
   "cell_type": "code",
   "execution_count": 7,
   "id": "e66a6ff3",
   "metadata": {},
   "outputs": [
    {
     "data": {
      "text/plain": [
       "'the little yellow dog barked at the persian cat'"
      ]
     },
     "execution_count": 7,
     "metadata": {},
     "output_type": "execute_result"
    }
   ],
   "source": [
    "ex.lower()"
   ]
  },
  {
   "cell_type": "code",
   "execution_count": 11,
   "id": "cabec694",
   "metadata": {},
   "outputs": [],
   "source": [
    "split_ex = nltk.word_tokenize(ex)"
   ]
  },
  {
   "cell_type": "code",
   "execution_count": 12,
   "id": "05703d80",
   "metadata": {},
   "outputs": [
    {
     "data": {
      "text/plain": [
       "[('The', 'DT'),\n",
       " ('little', 'JJ'),\n",
       " ('yellow', 'JJ'),\n",
       " ('dog', 'NN'),\n",
       " ('barked', 'VBD'),\n",
       " ('at', 'IN'),\n",
       " ('the', 'DT'),\n",
       " ('Persian', 'JJ'),\n",
       " ('cat', 'NN')]"
      ]
     },
     "execution_count": 12,
     "metadata": {},
     "output_type": "execute_result"
    }
   ],
   "source": [
    "nltk.pos_tag(split_ex)"
   ]
  },
  {
   "cell_type": "code",
   "execution_count": 14,
   "id": "6a729000",
   "metadata": {},
   "outputs": [],
   "source": [
    "dont = nltk.corpus.stopwords.words('english')"
   ]
  },
  {
   "cell_type": "code",
   "execution_count": 15,
   "id": "0d209b8e",
   "metadata": {},
   "outputs": [],
   "source": [
    "must = ['NN', 'NNS', 'NNP', 'NNPS', 'JJ', 'JJR', 'JJS', 'VB', 'VBD', 'VBG', 'VBN', 'VBP', 'VBZ']"
   ]
  },
  {
   "cell_type": "code",
   "execution_count": 31,
   "id": "0eacdd37",
   "metadata": {},
   "outputs": [],
   "source": [
    "def ext_tag(string):\n",
    "    split_string = nltk.word_tokenize(string)\n",
    "    pos = nltk.pos_tag(split_string)\n",
    "    result = []\n",
    "    for i in pos:\n",
    "        if i[1] in must:\n",
    "            if i[0].lower() not in dont:\n",
    "                result.append(i[0])\n",
    "    return result"
   ]
  },
  {
   "cell_type": "code",
   "execution_count": 32,
   "id": "5484ab80",
   "metadata": {},
   "outputs": [
    {
     "data": {
      "text/plain": [
       "['little', 'yellow', 'dog', 'barked', 'Persian', 'cat']"
      ]
     },
     "execution_count": 32,
     "metadata": {},
     "output_type": "execute_result"
    }
   ],
   "source": [
    "ext_tag(ex)"
   ]
  },
  {
   "cell_type": "code",
   "execution_count": 29,
   "id": "102416ac",
   "metadata": {},
   "outputs": [],
   "source": [
    "import pickle"
   ]
  },
  {
   "cell_type": "code",
   "execution_count": 30,
   "id": "ede1c766",
   "metadata": {},
   "outputs": [
    {
     "data": {
      "text/plain": [
       "'The little yellow dog barked at the Persian cat'"
      ]
     },
     "execution_count": 30,
     "metadata": {},
     "output_type": "execute_result"
    }
   ],
   "source": [
    "ex"
   ]
  },
  {
   "cell_type": "code",
   "execution_count": 33,
   "id": "93baf617",
   "metadata": {},
   "outputs": [],
   "source": [
    "result = ext_tag(ex)"
   ]
  },
  {
   "cell_type": "code",
   "execution_count": 34,
   "id": "62287446",
   "metadata": {},
   "outputs": [],
   "source": [
    "with open('pickle_practice.pkl', \"wb\") as f:\n",
    "    pickle.dump(result, f)"
   ]
  },
  {
   "cell_type": "code",
   "execution_count": 35,
   "id": "39341f82",
   "metadata": {},
   "outputs": [],
   "source": [
    "with open('pickle_practice.pkl', \"rb\") as f:\n",
    "    data = pickle.load(f)"
   ]
  },
  {
   "cell_type": "code",
   "execution_count": 36,
   "id": "923290ef",
   "metadata": {},
   "outputs": [
    {
     "data": {
      "text/plain": [
       "['little', 'yellow', 'dog', 'barked', 'Persian', 'cat']"
      ]
     },
     "execution_count": 36,
     "metadata": {},
     "output_type": "execute_result"
    }
   ],
   "source": [
    "data"
   ]
  },
  {
   "cell_type": "code",
   "execution_count": 37,
   "id": "063d40e3",
   "metadata": {},
   "outputs": [
    {
     "name": "stdout",
     "output_type": "stream",
     "text": [
      "Collecting wordcloud\n",
      "  Downloading wordcloud-1.8.2.2-cp39-cp39-win_amd64.whl (153 kB)\n",
      "Requirement already satisfied: numpy>=1.6.1 in c:\\users\\user\\anaconda3\\lib\\site-packages (from wordcloud) (1.21.5)\n",
      "Requirement already satisfied: matplotlib in c:\\users\\user\\anaconda3\\lib\\site-packages (from wordcloud) (3.5.1)\n",
      "Requirement already satisfied: pillow in c:\\users\\user\\anaconda3\\lib\\site-packages (from wordcloud) (9.0.1)\n",
      "Requirement already satisfied: kiwisolver>=1.0.1 in c:\\users\\user\\anaconda3\\lib\\site-packages (from matplotlib->wordcloud) (1.3.2)\n",
      "Requirement already satisfied: packaging>=20.0 in c:\\users\\user\\anaconda3\\lib\\site-packages (from matplotlib->wordcloud) (21.3)\n",
      "Requirement already satisfied: python-dateutil>=2.7 in c:\\users\\user\\anaconda3\\lib\\site-packages (from matplotlib->wordcloud) (2.8.2)\n",
      "Requirement already satisfied: fonttools>=4.22.0 in c:\\users\\user\\anaconda3\\lib\\site-packages (from matplotlib->wordcloud) (4.25.0)\n",
      "Requirement already satisfied: cycler>=0.10 in c:\\users\\user\\anaconda3\\lib\\site-packages (from matplotlib->wordcloud) (0.11.0)\n",
      "Requirement already satisfied: pyparsing>=2.2.1 in c:\\users\\user\\anaconda3\\lib\\site-packages (from matplotlib->wordcloud) (3.0.4)\n",
      "Requirement already satisfied: six>=1.5 in c:\\users\\user\\anaconda3\\lib\\site-packages (from python-dateutil>=2.7->matplotlib->wordcloud) (1.16.0)\n",
      "Installing collected packages: wordcloud\n",
      "Successfully installed wordcloud-1.8.2.2\n"
     ]
    }
   ],
   "source": [
    "!pip install wordcloud"
   ]
  },
  {
   "cell_type": "code",
   "execution_count": 38,
   "id": "9112bbc7",
   "metadata": {},
   "outputs": [],
   "source": [
    "from wordcloud import WordCloud\n",
    "from collections import Counter\n",
    "import matplotlib.pyplot as plt"
   ]
  },
  {
   "cell_type": "code",
   "execution_count": 39,
   "id": "b348ee01",
   "metadata": {},
   "outputs": [],
   "source": [
    "with open('three_articles.pkl', \"rb\") as file:\n",
    "    articles = pickle.load(file)"
   ]
  },
  {
   "cell_type": "code",
   "execution_count": 40,
   "id": "34dd1f3d",
   "metadata": {},
   "outputs": [
    {
     "data": {
      "text/plain": [
       "['\\n  윤석열 대통령 특유의 종결 어미 사용 습관에 대해 친한 기자들과 이야기를 나누다 이렇게 이름 붙이기로 했다. 일명 \\'윤구나\\'체. 9월 14일 하루만 해도 윤 대통령의 \\'윤구나\\'체 사용은 다음과 같다. 미리 밝히지만, 정말 일부다. \\n  \\n\\n\\n\\n\\n이미지 확대하기\\n\\n\\n\\n\\n\\n      윤석열 대통령: 아까 이것 문 2개로 된 것을 만든 거야? 안에 자석이 있구나? (열고 닫음) 아, 여기 고정해서 하는 거구나. \\n      윤석열 대통령 : 이것저것? (이동하며) 이걸 시험 문제로 골랐구나? \\n      윤석열 대통령 : 연습은 어떻게 해? (웹사이트 서버 구축 시연 보면서) 홈페이지 만드는 것, 조건이 다 있겠구나. \\n     \\n -국제기능올림픽에 출전하는 선수들과의 대화 中 일부- \\n    \\n\\n\\n \\'-구나\\'로 끝나는 어미, 현장 행보 때마다 눈에 띄는 윤 대통령의 말이다. 오늘뿐 아니라, 어느 현장이든 반복된다. 강원 동해시로 산불 피해 현황 점검을 나섰을 때 이재민에게 \"산이 아닌데 불이 난 거구나\" 또는 \"생활이 안 되니까 삼시세끼를 누가 해주는 것을 드셔야겠구나\"라고 하거나, 수해 피해 현장을 살펴보며 \"여기는 자체가 저지대다 보니까 (중략) 바로 직격탄을 맞는구나\"라고 되뇌는 식이다. \\n  \\n 종결어미 \\'-구나\\' 사용이 어떤 의미를 갖는지 알기 위해 국립국어원에 전화를 해봤다. \\n   \\xa0 \\n  \\n\\n\\n기자 : 여쭤볼 게 있는데요. \\'-구나\\'로 끝나는 종결어미에 대해서요, 감탄으로 보통 쓰잖아요? 그런데 이게 상대와 대화하면서 사용할 때는 상대방을 낮추는 의미가 있나요?\\n 국립국어원 : 이 어미 자체가 \\'해라체\\'에 쓰이는 어미예요. \\'해라체\\'는 (상대편을) 아주 낮추는 종결형이기 때문에 그냥 반말을 하는 경우에 쓰는 거죠. 윗사람에게 \\'~하는구나\\'라고 쓰지는 않죠. \\n    \\n\\n\\n 간단히 정리하면 \\'-구나\\'가 상대를 높이는 경우에 쓰는 어미는 결코 아니란 설명이다. 상대방을 높이는 어미는 격식체로 \\'하오체\\', \\'하십시오체\\'가 있고, 이 둘을 쓸 자리에 두루 쓰는 비격식체인 \\'해요체\\'가 있는데 \\'-구나\\'는 해당되지 않는다. 그럼 윤 대통령은 현장에서 만나는 관료, 또는 국민을 하대하는 것일까? 윤 대통령이 \\'해라체\\'로 말을 했는데, \\'하오체\\'나 \\'해요체\\'로 바꿔서 방송 자막을 넣어줄 수도 없고, 기자로서도 참 고민되는 지점이다. \\n  \\n 비단 \\'-구나\\' 어미 사용만의 문제는 아니다. 청년 경찰관들과의 만남에서 \"응, 그래, 반가워\"라고 인사하거나 마트 관계자들과 대화하면서 \"이거는 뭐야. (아오리사과입니다.) 당도가 좀 떨어지는 건가?\" 식의 반말도 이미 지적됐다. \\n  \\n\\n\\n\\n\\n이미지 확대하기\\n\\n중앙경찰학교에서 열린 310기 졸업식에 참석한 윤석열 대통령 (사진=연합뉴스)\\n 보는 사람의 마음을 불편하게 하는 이런 대통령의 언어는 습관에 가까워 보인다. 요모조모 살펴봐도 격식 없고, 편하게 대화하는 습관이 몸에 밴 것일 뿐 상대를 깎아내리려는 \\'고의\\'는 읽히지 않는다. 그럼에도 대통령의 이런 말투는 국민을 낮게 보는 것처럼 느껴진다고, 고치면 좋겠다는 이야기를 할 때마다 지근거리에서 보좌하는 참모들이나 가까운 사람들에게서는 꼭 이런 답이 돌아온다. 윤 대통령은 진솔한 사람이라고. 가까이서 대화하면 오해할 사람은 한 명도 없을 거라고. \\n  \\n 소탈하고 꾸밈 없는 말투는 오해를 줄이는 데 도움이 된다. 가식이 느껴지지 않기 때문에 상대방과의 심리적 거리를 빠르게 줄일 수도 있을 것이다. 단, 이건 사적인 대화일 때 이야기다. 지금은 국정 운영 지지율이 높든 낮든 대통령이기 때문에, 윤 대통령이 현장 행보에서 내뱉는 말 하나하나는 영상으로 기록되고 글로 남는다. 국민에게 고스란히 노출된다는 의미다. \\n  \\n 세상에는 대통령과 가까이서 오래 대화를 할 수 있는 사람보다 할 수 없는 사람이 훨씬 더 많다. 정치 초년병이든 \\'9단\\'이든 대통령은 대중 정치의 정점에 있는 사람이고 그만큼 태도 하나, 말 한마디가 갖는 의미가 크다. \\'자세히 보아야 예쁘고, 오래 보아야 사랑스럽다\\'는 시 구절은 대통령에게 처음부터 적용 가능하지 않단 이야기다. 출근길 문답 태도가 최근 눈에 띄게 달라졌듯, 윤 대통령의 말투에 국민 한 명 한 명을 소중히 여기는 느낌이 담겼으면 좋겠다.\\xa0\\n ',\n",
       " '\\n  성범죄 피의자가 경찰서 주차장에서 감시가 허술한 틈을 타 도주해 경찰이 추적에 나섰습니다.\\n  \\n 오늘(15일) 전남 여수경찰서에 따르면\\n   어제 오후 11시 51분쯤 청소년 성매매 알선 혐의로 붙잡힌 20대 남성 A씨가 경찰서 주차장에서 달아났습니다.\\n  \\n 경찰은 체포영장을 발부받아 도주 중이던 A씨를 경기 시흥에서 체포해 여수경찰서로 압송 중이었습니다.\\n  \\n 주차장에 도착해 경찰 차량에서 경찰들과 함께 내리는 과정에서 장비 등을 챙기기 위해 감시가 분산되자 그 틈을 타 도주한 것으로 알려졌습니다.\\n  \\n 당시 A씨는 양손이 아닌 한 손에만 수갑을 차고 있었던 것으로 확인됐습니다.\\n  \\n 이송 과정에서 수갑이 다소 헐겁게 채워져 손을 빼낸 것으로 경찰은 추정하고 있습니다.\\n  \\n 경찰은 기동대를 동원해 도주한 A씨의 행방을 추적 중입니다.\\n  \\n 여수 관내 CCTV를 확인하는 한편 A씨가 한쪽 손에 채워진 수갑을 절단하기 위해 철물점을 들렀을 가능성 등을 염두에 두고 탐문 수사를 하고 있습니다.\\n  \\n 여수경찰서는 지난 6월 30일에도 파출소에 난입한 괴한이 화살 총을 쏘고 달아난 사건이 발생했는데 당시 현장 경찰관들이 우왕좌왕하며 소극적으로 대응해 현행범 체포에 실패하기도 했습니다.\\n  \\n 당시 무기력하게 대응한 파출소 직원 3명이 경징계를 받았습니다.\\n  \\n 치안 최일선 현장의 구멍이 드러난 지 채 석 달도 지나지 않아 경찰서 한복판에서 피의자가 도망치는 촌극이 벌어졌습니다.\\n  \\n 이 때문에 경찰의 부실 대처와 기강 해이가 도마 위에 오르고 있습니다.\\n  \\n (사진=연합뉴스TV 제공, 연합뉴스)\\n ',\n",
       " '\\n  신규 확진 7만 1471명, 전날보다 2만여 명 줄어…사망 72명\\n  \\n (SBS 디지털뉴스국)\\n ']"
      ]
     },
     "execution_count": 40,
     "metadata": {},
     "output_type": "execute_result"
    }
   ],
   "source": [
    "articles"
   ]
  },
  {
   "cell_type": "code",
   "execution_count": null,
   "id": "bdcbe294",
   "metadata": {},
   "outputs": [],
   "source": []
  }
 ],
 "metadata": {
  "kernelspec": {
   "display_name": "Python 3 (ipykernel)",
   "language": "python",
   "name": "python3"
  },
  "language_info": {
   "codemirror_mode": {
    "name": "ipython",
    "version": 3
   },
   "file_extension": ".py",
   "mimetype": "text/x-python",
   "name": "python",
   "nbconvert_exporter": "python",
   "pygments_lexer": "ipython3",
   "version": "3.9.12"
  }
 },
 "nbformat": 4,
 "nbformat_minor": 5
}
