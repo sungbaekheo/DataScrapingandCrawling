{
 "cells": [
  {
   "cell_type": "code",
   "execution_count": 1,
   "id": "5a383cbf",
   "metadata": {},
   "outputs": [],
   "source": [
    "from selenium import webdriver\n",
    "from bs4 import BeautifulSoup as bs\n",
    "from webdriver_manager.chrome import ChromeDriverManager\n",
    "import time\n",
    "import pandas as panda\n",
    "from tqdm import tqdm_notebook as tq\n",
    "from selenium.webdriver.common.keys import Keys"
   ]
  },
  {
   "cell_type": "code",
   "execution_count": 17,
   "id": "1ddffed1",
   "metadata": {},
   "outputs": [],
   "source": [
    "driver = webdriver.Chrome(ChromeDriverManager().install())"
   ]
  },
  {
   "cell_type": "code",
   "execution_count": 30,
   "id": "bad6b37c",
   "metadata": {},
   "outputs": [
    {
     "name": "stderr",
     "output_type": "stream",
     "text": [
      "C:\\Users\\user\\AppData\\Local\\Temp\\ipykernel_5364\\4266485712.py:16: TqdmDeprecationWarning: This function will be removed in tqdm==5.0.0\n",
      "Please use `tqdm.notebook.tqdm` instead of `tqdm.tqdm_notebook`\n",
      "  for i in tq(range(1, 292)):\n"
     ]
    },
    {
     "data": {
      "application/vnd.jupyter.widget-view+json": {
       "model_id": "9ea8bda93f7c427eb1e868438fd667f8",
       "version_major": 2,
       "version_minor": 0
      },
      "text/plain": [
       "  0%|          | 0/291 [00:00<?, ?it/s]"
      ]
     },
     "metadata": {},
     "output_type": "display_data"
    }
   ],
   "source": [
    "driver.get(\"https://www.health.kr/main.asp\")\n",
    "\n",
    "driver.maximize_window()\n",
    "time.sleep(1)\n",
    "\n",
    "(driver.find_element_by_css_selector(\"#li_searchIngredient\")).click()\n",
    "time.sleep(1)\n",
    "(driver.find_element_by_css_selector(\"button.search.ico\")).click()\n",
    "driver.implicitly_wait(10)\n",
    "time.sleep(2)\n",
    "\n",
    "english_names = []\n",
    "korean_names = []\n",
    "drugs = []\n",
    "\n",
    "for i in tq(range(1, 292)):\n",
    "    if i > 5:\n",
    "        i = 6\n",
    "    driver.find_element_by_css_selector(f\"#paging > span > a:nth-child({i})\").click()\n",
    "    driver.implicitly_wait(10)\n",
    "    time.sleep(1)\n",
    "    \n",
    "    ing_list = driver.find_elements_by_css_selector(\"td.name_eng\")\n",
    "    \n",
    "    for j in range(len(ing_list)):\n",
    "        drug_list = []\n",
    "        english_names.append(driver.find_element_by_css_selector(f\"tr:nth-child({j+2}) > td.name_eng\").text)\n",
    "        korean_names.append(driver.find_element_by_css_selector(f\"tr:nth-child({j+2}) > td.name_kor\").text)\n",
    "        (driver.find_element_by_css_selector(f\"tr:nth-child({j+2}) > td.product\")).click()\n",
    "        time.sleep(2)\n",
    "        \n",
    "        name_list = (driver.find_elements_by_css_selector(\"#proy_all > tbody > tr\"))[1:]\n",
    "        \n",
    "        for k in range(len(name_list)):\n",
    "            drug_list.append(driver.find_element_by_css_selector(f\"#proy_all > tbody > tr:nth-child({k+2}) > td:nth-child(2)\").text)\n",
    "        \n",
    "        drugs.append(\", \".join(drug_list))\n",
    "        \n",
    "        driver.back()\n",
    "        time.sleep(1)"
   ]
  },
  {
   "cell_type": "code",
   "execution_count": 101,
   "id": "622f0c22",
   "metadata": {},
   "outputs": [],
   "source": [
    "drugs_on_use = {\"영어 성분명\" : english_names, \"한국어 성분명\" : korean_names, \"약품 리스트\" : drugs}"
   ]
  },
  {
   "cell_type": "code",
   "execution_count": 102,
   "id": "b9a5d61d",
   "metadata": {},
   "outputs": [],
   "source": [
    "import pandas as pd"
   ]
  },
  {
   "cell_type": "code",
   "execution_count": 103,
   "id": "3fead375",
   "metadata": {},
   "outputs": [],
   "source": [
    "drugs_on_use_in_korea = pd.DataFrame(drugs_on_use)"
   ]
  },
  {
   "cell_type": "code",
   "execution_count": 104,
   "id": "ee40d104",
   "metadata": {},
   "outputs": [],
   "source": [
    "drugs_on_use_in_korea.to_excel(\"한국 의약품 리스트.xlsx\", encoding = \"UTF-8-sig\")"
   ]
  }
 ],
 "metadata": {
  "kernelspec": {
   "display_name": "Python 3 (ipykernel)",
   "language": "python",
   "name": "python3"
  },
  "language_info": {
   "codemirror_mode": {
    "name": "ipython",
    "version": 3
   },
   "file_extension": ".py",
   "mimetype": "text/x-python",
   "name": "python",
   "nbconvert_exporter": "python",
   "pygments_lexer": "ipython3",
   "version": "3.9.12"
  }
 },
 "nbformat": 4,
 "nbformat_minor": 5
}
